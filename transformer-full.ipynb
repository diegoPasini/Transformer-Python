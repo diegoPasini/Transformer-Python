{
 "cells": [
  {
   "cell_type": "code",
   "execution_count": 282,
   "id": "1c16b6f2-53ba-40d0-b52b-ae50252a8b89",
   "metadata": {},
   "outputs": [],
   "source": [
    "import torch\n",
    "from torch import nn\n",
    "from torch.nn import functional\n",
    "import numpy as np\n",
    "import math"
   ]
  },
  {
   "cell_type": "code",
   "execution_count": 283,
   "id": "c27f099e-df06-4d62-be57-95d3a638bf87",
   "metadata": {},
   "outputs": [],
   "source": [
    "# Reading Tiny Shakespeare Dataset\n",
    "file = open('tiny-shakespeare.txt', 'r')\n",
    "text = file.read()\n",
    "file.close()"
   ]
  },
  {
   "cell_type": "code",
   "execution_count": 405,
   "id": "fae6c1e8-22f1-4e3d-8239-32d2e5a18708",
   "metadata": {},
   "outputs": [],
   "source": [
    "head_size = 4\n",
    "embedding_size = 5\n",
    "class Single_Attention_Block(nn.Module):\n",
    "    def __init__(self):\n",
    "        super().__init__()\n",
    "        self.lin_q = nn.Linear(embedding_size, head_size, bias = False)\n",
    "        self.lin_k = nn.Linear(embedding_size, head_size, bias = False)\n",
    "        self.lin_v_up = nn.Linear(embedding_size, head_size, bias = False)\n",
    "        self.lin_v_down = nn.Linear(head_size, head_size, bias = False)\n",
    "        self.soft = nn.Softmax(dim = 2)\n",
    "\n",
    "    def forward(self, embedding):\n",
    "        Q = self.lin_q(embedding)\n",
    "        Q = Q[:, :, None]\n",
    "        #print(Q.shape)\n",
    "        K = self.lin_k(embedding)\n",
    "        K = K[:, :, None]\n",
    "        K = torch.permute(K, (0, 2, 1))\n",
    "        #print(K.shape)\n",
    "        V = self.lin_v_up(embedding)\n",
    "        V = self.lin_v_down(V)\n",
    "        V = V[:, :, None]\n",
    "        #print(\"V Shape : \", V.shape)\n",
    "        attention_matrix = (Q @ K) / (math.sqrt(head_size))\n",
    "        attention_matrix = torch.tril(attention_matrix)\n",
    "        attention_matrix[attention_matrix == 0] = -math.inf\n",
    "        attention_matrix = self.soft(attention_matrix)\n",
    "        attention_matrix = attention_matrix @ V\n",
    "        return attention_matrix"
   ]
  },
  {
   "cell_type": "code",
   "execution_count": 406,
   "id": "b7d9597f-0e5c-4614-8cc7-b818ff2f7cc0",
   "metadata": {},
   "outputs": [
    {
     "data": {
      "text/plain": [
       "torch.Size([3, 5])"
      ]
     },
     "execution_count": 406,
     "metadata": {},
     "output_type": "execute_result"
    }
   ],
   "source": [
    "test_embedding = torch.rand(3, embedding_size)\n",
    "test_embedding.shape"
   ]
  },
  {
   "cell_type": "code",
   "execution_count": 407,
   "id": "6318dd10-6ef5-4e2d-b911-c00baecd6b0e",
   "metadata": {},
   "outputs": [],
   "source": [
    "model = Single_Attention_Block()"
   ]
  },
  {
   "cell_type": "code",
   "execution_count": 408,
   "id": "dd39cbfb-3f6d-49f8-a9bb-c8789c978d72",
   "metadata": {},
   "outputs": [],
   "source": [
    "result = model(test_embedding)"
   ]
  },
  {
   "cell_type": "code",
   "execution_count": 409,
   "id": "0d62e3c1-3e15-4482-b27c-e63a7dc64df9",
   "metadata": {},
   "outputs": [
    {
     "data": {
      "text/plain": [
       "tensor([[[ 0.0665],\n",
       "         [ 0.0718],\n",
       "         [ 0.0666],\n",
       "         [ 0.0453]],\n",
       "\n",
       "        [[ 0.0550],\n",
       "         [ 0.0894],\n",
       "         [ 0.1086],\n",
       "         [ 0.0699]],\n",
       "\n",
       "        [[-0.1050],\n",
       "         [ 0.0068],\n",
       "         [ 0.0317],\n",
       "         [ 0.0023]]], grad_fn=<UnsafeViewBackward0>)"
      ]
     },
     "execution_count": 409,
     "metadata": {},
     "output_type": "execute_result"
    }
   ],
   "source": [
    "result"
   ]
  },
  {
   "cell_type": "code",
   "execution_count": null,
   "id": "2651c5af-e59f-4912-9796-cc8c95943507",
   "metadata": {},
   "outputs": [],
   "source": []
  }
 ],
 "metadata": {
  "kernelspec": {
   "display_name": "Python 3 (ipykernel)",
   "language": "python",
   "name": "python3"
  },
  "language_info": {
   "codemirror_mode": {
    "name": "ipython",
    "version": 3
   },
   "file_extension": ".py",
   "mimetype": "text/x-python",
   "name": "python",
   "nbconvert_exporter": "python",
   "pygments_lexer": "ipython3",
   "version": "3.12.2"
  }
 },
 "nbformat": 4,
 "nbformat_minor": 5
}
