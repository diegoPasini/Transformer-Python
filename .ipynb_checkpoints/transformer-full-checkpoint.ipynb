{
 "cells": [
  {
   "cell_type": "code",
   "execution_count": 282,
   "id": "1c16b6f2-53ba-40d0-b52b-ae50252a8b89",
   "metadata": {},
   "outputs": [],
   "source": [
    "import torch\n",
    "from torch import nn\n",
    "from torch.nn import functional\n",
    "import numpy as np\n",
    "import math"
   ]
  },
  {
   "cell_type": "code",
   "execution_count": 283,
   "id": "c27f099e-df06-4d62-be57-95d3a638bf87",
   "metadata": {},
   "outputs": [],
   "source": [
    "# Reading Tiny Shakespeare Dataset\n",
    "file = open('tiny-shakespeare.txt', 'r')\n",
    "text = file.read()\n",
    "file.close()"
   ]
  },
  {
   "cell_type": "code",
   "execution_count": 427,
   "id": "fae6c1e8-22f1-4e3d-8239-32d2e5a18708",
   "metadata": {},
   "outputs": [],
   "source": [
    "head_size = 4\n",
    "embedding_size = 5\n",
    "input_size = 3\n",
    "class Single_Attention_Block(nn.Module):\n",
    "    def __init__(self):\n",
    "        super().__init__()\n",
    "        # Weight Matrices for Queries, Keys, and Values\n",
    "        self.lin_q = nn.Linear(embedding_size, head_size, bias = False)\n",
    "        self.lin_k = nn.Linear(embedding_size, head_size, bias = False)\n",
    "        self.lin_v_up = nn.Linear(embedding_size, head_size, bias = False)\n",
    "        self.lin_v_down = nn.Linear(head_size, head_size, bias = False)\n",
    "        self.soft = nn.Softmax(dim = 2)\n",
    "\n",
    "    def forward(self, embedding):\n",
    "        Q = self.lin_q(embedding)\n",
    "        Q = Q[:, :, None]\n",
    "        K = self.lin_k(embedding)\n",
    "        K = K[:, :, None]\n",
    "        \n",
    "        # K Transposition\n",
    "        K = torch.permute(K, (0, 2, 1))\n",
    "        V = self.lin_v_up(embedding)\n",
    "        V = self.lin_v_down(V)\n",
    "        V = V[:, :, None]\n",
    "        attention_matrix = (Q @ K) / (math.sqrt(head_size))\n",
    "        \n",
    "        # Triangular mask applied for decoder\n",
    "        attention_matrix = torch.tril(attention_matrix)\n",
    "        attention_matrix[attention_matrix == 0] = -math.inf\n",
    "        attention_matrix = self.soft(attention_matrix)\n",
    "        attention_matrix = attention_matrix @ V\n",
    "        return attention_matrix"
   ]
  },
  {
   "cell_type": "code",
   "execution_count": 428,
   "id": "b7d9597f-0e5c-4614-8cc7-b818ff2f7cc0",
   "metadata": {},
   "outputs": [
    {
     "data": {
      "text/plain": [
       "torch.Size([3, 5])"
      ]
     },
     "execution_count": 428,
     "metadata": {},
     "output_type": "execute_result"
    }
   ],
   "source": [
    "test_embedding = torch.rand(input_size, embedding_size)\n",
    "test_embedding.shape"
   ]
  },
  {
   "cell_type": "code",
   "execution_count": 429,
   "id": "6318dd10-6ef5-4e2d-b911-c00baecd6b0e",
   "metadata": {},
   "outputs": [],
   "source": [
    "model = Single_Attention_Block()"
   ]
  },
  {
   "cell_type": "code",
   "execution_count": 430,
   "id": "dd39cbfb-3f6d-49f8-a9bb-c8789c978d72",
   "metadata": {},
   "outputs": [],
   "source": [
    "result = model(test_embedding)"
   ]
  },
  {
   "cell_type": "code",
   "execution_count": 431,
   "id": "0d62e3c1-3e15-4482-b27c-e63a7dc64df9",
   "metadata": {},
   "outputs": [
    {
     "data": {
      "text/plain": [
       "tensor([[[ 0.1112],\n",
       "         [ 0.0525],\n",
       "         [-0.0133],\n",
       "         [-0.0584]],\n",
       "\n",
       "        [[ 0.1739],\n",
       "         [ 0.1035],\n",
       "         [ 0.0178],\n",
       "         [-0.0587]],\n",
       "\n",
       "        [[ 0.0643],\n",
       "         [-0.0241],\n",
       "         [ 0.0270],\n",
       "         [-0.0303]]], grad_fn=<UnsafeViewBackward0>)"
      ]
     },
     "execution_count": 431,
     "metadata": {},
     "output_type": "execute_result"
    }
   ],
   "source": [
    "result"
   ]
  },
  {
   "cell_type": "code",
   "execution_count": 447,
   "id": "2651c5af-e59f-4912-9796-cc8c95943507",
   "metadata": {},
   "outputs": [],
   "source": [
    "class Multi_Head_Attention(nn.Module):\n",
    "    def __init__(self, num_heads):\n",
    "        super().__init__()\n",
    "        self.num_heads = num_heads\n",
    "        self.attentionModule = nn.ModuleList([Single_Attention_Block() for i in range(num_heads)])\n",
    "        self.lin_o = nn.Linear(embedding_size, embedding_size)\n",
    "        \n",
    "    def forward(self, embedding):\n",
    "        outputs = ()\n",
    "        for i, block in enumerate(self.attentionModule):\n",
    "            outputs.append(block(embedding))\n",
    "        x = torch.concat(outputs, dim = 1)\n",
    "        return x\n",
    "        "
   ]
  },
  {
   "cell_type": "code",
   "execution_count": 448,
   "id": "bd219fe0-634f-4917-87f5-12fa05b06fa5",
   "metadata": {},
   "outputs": [
    {
     "ename": "TypeError",
     "evalue": "concat() received an invalid combination of arguments - got (Tensor, dim=int), but expected one of:\n * (tuple of Tensors tensors, int dim, *, Tensor out)\n * (tuple of Tensors tensors, name dim, *, Tensor out)\n",
     "output_type": "error",
     "traceback": [
      "\u001b[0;31m---------------------------------------------------------------------------\u001b[0m",
      "\u001b[0;31mTypeError\u001b[0m                                 Traceback (most recent call last)",
      "Cell \u001b[0;32mIn[448], line 2\u001b[0m\n\u001b[1;32m      1\u001b[0m model \u001b[38;5;241m=\u001b[39m Multi_Head_Attention(\u001b[38;5;241m3\u001b[39m)\n\u001b[0;32m----> 2\u001b[0m result \u001b[38;5;241m=\u001b[39m \u001b[43mmodel\u001b[49m\u001b[43m(\u001b[49m\u001b[43mtest_embedding\u001b[49m\u001b[43m)\u001b[49m\n\u001b[1;32m      3\u001b[0m result\n",
      "File \u001b[0;32m~/anaconda3/envs/transformer/lib/python3.12/site-packages/torch/nn/modules/module.py:1511\u001b[0m, in \u001b[0;36mModule._wrapped_call_impl\u001b[0;34m(self, *args, **kwargs)\u001b[0m\n\u001b[1;32m   1509\u001b[0m     \u001b[38;5;28;01mreturn\u001b[39;00m \u001b[38;5;28mself\u001b[39m\u001b[38;5;241m.\u001b[39m_compiled_call_impl(\u001b[38;5;241m*\u001b[39margs, \u001b[38;5;241m*\u001b[39m\u001b[38;5;241m*\u001b[39mkwargs)  \u001b[38;5;66;03m# type: ignore[misc]\u001b[39;00m\n\u001b[1;32m   1510\u001b[0m \u001b[38;5;28;01melse\u001b[39;00m:\n\u001b[0;32m-> 1511\u001b[0m     \u001b[38;5;28;01mreturn\u001b[39;00m \u001b[38;5;28;43mself\u001b[39;49m\u001b[38;5;241;43m.\u001b[39;49m\u001b[43m_call_impl\u001b[49m\u001b[43m(\u001b[49m\u001b[38;5;241;43m*\u001b[39;49m\u001b[43margs\u001b[49m\u001b[43m,\u001b[49m\u001b[43m \u001b[49m\u001b[38;5;241;43m*\u001b[39;49m\u001b[38;5;241;43m*\u001b[39;49m\u001b[43mkwargs\u001b[49m\u001b[43m)\u001b[49m\n",
      "File \u001b[0;32m~/anaconda3/envs/transformer/lib/python3.12/site-packages/torch/nn/modules/module.py:1520\u001b[0m, in \u001b[0;36mModule._call_impl\u001b[0;34m(self, *args, **kwargs)\u001b[0m\n\u001b[1;32m   1515\u001b[0m \u001b[38;5;66;03m# If we don't have any hooks, we want to skip the rest of the logic in\u001b[39;00m\n\u001b[1;32m   1516\u001b[0m \u001b[38;5;66;03m# this function, and just call forward.\u001b[39;00m\n\u001b[1;32m   1517\u001b[0m \u001b[38;5;28;01mif\u001b[39;00m \u001b[38;5;129;01mnot\u001b[39;00m (\u001b[38;5;28mself\u001b[39m\u001b[38;5;241m.\u001b[39m_backward_hooks \u001b[38;5;129;01mor\u001b[39;00m \u001b[38;5;28mself\u001b[39m\u001b[38;5;241m.\u001b[39m_backward_pre_hooks \u001b[38;5;129;01mor\u001b[39;00m \u001b[38;5;28mself\u001b[39m\u001b[38;5;241m.\u001b[39m_forward_hooks \u001b[38;5;129;01mor\u001b[39;00m \u001b[38;5;28mself\u001b[39m\u001b[38;5;241m.\u001b[39m_forward_pre_hooks\n\u001b[1;32m   1518\u001b[0m         \u001b[38;5;129;01mor\u001b[39;00m _global_backward_pre_hooks \u001b[38;5;129;01mor\u001b[39;00m _global_backward_hooks\n\u001b[1;32m   1519\u001b[0m         \u001b[38;5;129;01mor\u001b[39;00m _global_forward_hooks \u001b[38;5;129;01mor\u001b[39;00m _global_forward_pre_hooks):\n\u001b[0;32m-> 1520\u001b[0m     \u001b[38;5;28;01mreturn\u001b[39;00m \u001b[43mforward_call\u001b[49m\u001b[43m(\u001b[49m\u001b[38;5;241;43m*\u001b[39;49m\u001b[43margs\u001b[49m\u001b[43m,\u001b[49m\u001b[43m \u001b[49m\u001b[38;5;241;43m*\u001b[39;49m\u001b[38;5;241;43m*\u001b[39;49m\u001b[43mkwargs\u001b[49m\u001b[43m)\u001b[49m\n\u001b[1;32m   1522\u001b[0m \u001b[38;5;28;01mtry\u001b[39;00m:\n\u001b[1;32m   1523\u001b[0m     result \u001b[38;5;241m=\u001b[39m \u001b[38;5;28;01mNone\u001b[39;00m\n",
      "Cell \u001b[0;32mIn[447], line 12\u001b[0m, in \u001b[0;36mMulti_Head_Attention.forward\u001b[0;34m(self, embedding)\u001b[0m\n\u001b[1;32m     10\u001b[0m \u001b[38;5;28;01mfor\u001b[39;00m i, block \u001b[38;5;129;01min\u001b[39;00m \u001b[38;5;28menumerate\u001b[39m(\u001b[38;5;28mself\u001b[39m\u001b[38;5;241m.\u001b[39mattentionModule):\n\u001b[1;32m     11\u001b[0m     outputs[i] \u001b[38;5;241m=\u001b[39m embedding\n\u001b[0;32m---> 12\u001b[0m x \u001b[38;5;241m=\u001b[39m \u001b[43mtorch\u001b[49m\u001b[38;5;241;43m.\u001b[39;49m\u001b[43mconcat\u001b[49m\u001b[43m(\u001b[49m\u001b[43moutputs\u001b[49m\u001b[43m,\u001b[49m\u001b[43m \u001b[49m\u001b[43mdim\u001b[49m\u001b[43m \u001b[49m\u001b[38;5;241;43m=\u001b[39;49m\u001b[43m \u001b[49m\u001b[38;5;241;43m1\u001b[39;49m\u001b[43m)\u001b[49m\n\u001b[1;32m     13\u001b[0m \u001b[38;5;28;01mreturn\u001b[39;00m x\n",
      "\u001b[0;31mTypeError\u001b[0m: concat() received an invalid combination of arguments - got (Tensor, dim=int), but expected one of:\n * (tuple of Tensors tensors, int dim, *, Tensor out)\n * (tuple of Tensors tensors, name dim, *, Tensor out)\n"
     ]
    }
   ],
   "source": [
    "model = Multi_Head_Attention(3)\n",
    "result = model(test_embedding)\n",
    "result"
   ]
  },
  {
   "cell_type": "code",
   "execution_count": null,
   "id": "23f32f5c-629a-43cb-96cc-7e32403225e5",
   "metadata": {},
   "outputs": [],
   "source": []
  }
 ],
 "metadata": {
  "kernelspec": {
   "display_name": "Python 3 (ipykernel)",
   "language": "python",
   "name": "python3"
  },
  "language_info": {
   "codemirror_mode": {
    "name": "ipython",
    "version": 3
   },
   "file_extension": ".py",
   "mimetype": "text/x-python",
   "name": "python",
   "nbconvert_exporter": "python",
   "pygments_lexer": "ipython3",
   "version": "3.12.2"
  }
 },
 "nbformat": 4,
 "nbformat_minor": 5
}
